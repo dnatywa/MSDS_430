{
 "cells": [
  {
   "cell_type": "markdown",
   "metadata": {},
   "source": [
    "# MSDS 430 Module 5 Python Assignment"
   ]
  },
  {
   "cell_type": "markdown",
   "metadata": {},
   "source": [
    "#### In this assignment you will complete the following exercises and submit your notebook (ipynb file) to Canvas. Your file should include all output, i.e. run each cell and save your file before submitting."
   ]
  },
  {
   "cell_type": "markdown",
   "metadata": {},
   "source": [
    "<font color=green> One aspect of data science is working with data from files. In this assignment we will learn to read in a text file and extract some useful information. In addition to extracting information from an existing file, we will be creating a text file, appending to that file, and performing some calculations with the data. Later in the course we'll learn more about how to display this information neatly and manipulate the data more efficiently, but for now we start by learning the basics of reading and writing text files.  </font>"
   ]
  },
  {
   "cell_type": "markdown",
   "metadata": {},
   "source": [
    "Problem 1 (6 pts.): The file `pitching_stats.txt` contains a `YTD` snapshot of `MLB` pitching stats for the top ten pitchers based on ERA around mid-season in 2018. The columns in the file correspond to `[name, team, games won, games lost, ERA, games pitched, innings pitched]`. Read the file and print the following for each line:\n",
    "\n",
    "`\" < rank > < team > 'pitcher' < name > 'has an ERA of' < ERA >\"`<br>\n",
    "\n",
    "For example, line 1 should look like this: <br>\n",
    "\n",
    "`1 NYM pitcher Degrom has an ERA of 1.81`"
   ]
  },
  {
   "cell_type": "code",
   "execution_count": 90,
   "metadata": {},
   "outputs": [
    {
     "name": "stdout",
     "output_type": "stream",
     "text": [
      "1 NYM pitcher Degrom has an era of 1.81\n",
      "2 BOS pitcher Sale has an era of 1.97\n",
      "3 TB pitcher Snell has an era of 2.18\n",
      "4 WSH pitcher Scherzer has an era of 2.19\n",
      "5 CLE pitcher Bauer has an era of 2.22\n",
      "6 PHI pitcher Nola has an era of 2.28\n",
      "7 HOU pitcher Verlander has an era of 2.52\n",
      "8 CLE pitcher Kluber has an era of 2.68\n",
      "9 HOU pitcher Cole has an era of 2.75\n",
      "10 STL pitcher Mikolas has an era of 2.85\n"
     ]
    }
   ],
   "source": [
    "mlbfile = open('pitching_stats.txt', 'r')\n",
    "count = 0\n",
    "\n",
    "for aline in mlbfile:\n",
    "    values = aline.split()\n",
    "    count += 1\n",
    "    print(count, values[1], 'pitcher', values[0], 'has an era of', values[4])\n",
    "    \n",
    "mlbfile.close()\n"
   ]
  },
  {
   "cell_type": "code",
   "execution_count": 9,
   "metadata": {},
   "outputs": [
    {
     "name": "stdout",
     "output_type": "stream",
     "text": [
      "Degrom NYM 7 7 1.81 24 159.0\n",
      "Sale BOS 12 4 1.97 23 146.0\n",
      "Snell TB 13 5 2.18 22 128.0\n",
      "Scherzer WSH 15 5 2.19 25 168.2\n",
      "Bauer CLE 12 6 2.22 25 166.0\n",
      "Nola PHI 13 3 2.28 24 154.0\n",
      "Verlander HOU 11 8 2.52 26 164.1\n",
      "Kluber CLE 15 6 2.68 25 168.0\n",
      "Cole HOU 10 5 2.75 24 153.2\n",
      "Mikolas STL 12 3 2.85 24 151.1\n",
      "\n"
     ]
    }
   ],
   "source": [
    "mlbfile = open('pitching_stats.txt', 'r')\n",
    "\n",
    "print(mlbfile.read())\n",
    "\n",
    "mlbfile.close()"
   ]
  },
  {
   "cell_type": "markdown",
   "metadata": {},
   "source": [
    "Problem 2 (6 pts.): Write a program to calculate the area of a `circle` with radius `n`, where `n` ranges from `1` to `15`, and write the results to a file: `circles_<lastname\\>.txt`. The file your prgoram creates should consists of  `15` lines altogether. <br><br> For example, this should be the first two lines of your file:\n",
    "\n",
    "`The area of a circle with radius 1 equals 6.283185307179586`<br>\n",
    "`The area of a circle with radius 2 equals 12.566370614359172`"
   ]
  },
  {
   "cell_type": "code",
   "execution_count": 92,
   "metadata": {},
   "outputs": [],
   "source": [
    "import math\n",
    "\n",
    "outfile = open('circles_natywa.txt', 'w')\n",
    "\n",
    "def area():\n",
    "    \n",
    "    for n in range(1,16):\n",
    "        circle = math.pi * n ** 2\n",
    "        line = 'The area of a circle with radius ',n,' equals ',circle\n",
    "        line_str = ''.join(map(str, line))\n",
    "        outfile.write(line_str + '\\n')\n",
    "              \n",
    "area()\n",
    "\n",
    "outfile.close()"
   ]
  },
  {
   "cell_type": "markdown",
   "metadata": {},
   "source": [
    "Problem 3 (6 pts): Append `10` lines to your `circles.txt` file that will now calculate the volume for `radius = 1, ..., 10`. Use wording for each line that is similar to the previous problem."
   ]
  },
  {
   "cell_type": "code",
   "execution_count": 93,
   "metadata": {},
   "outputs": [],
   "source": [
    "outfile = open('circles_natywa.txt', 'a')\n",
    "\n",
    "def volume():\n",
    "    \n",
    "    for n in range(1,11):\n",
    "        sphere = 4 / 3 * math.pi * n ** 3\n",
    "        newline = 'The volume of a sphere with radius ',n,' equals ',sphere\n",
    "        line_str_new = ''.join(map(str, newline))\n",
    "        outfile.write(line_str_new + '\\n')\n",
    "              \n",
    "volume()\n",
    "\n",
    "outfile.close()"
   ]
  },
  {
   "cell_type": "code",
   "execution_count": null,
   "metadata": {},
   "outputs": [],
   "source": []
  }
 ],
 "metadata": {
  "kernelspec": {
   "display_name": "Python 3",
   "language": "python",
   "name": "python3"
  },
  "language_info": {
   "codemirror_mode": {
    "name": "ipython",
    "version": 3
   },
   "file_extension": ".py",
   "mimetype": "text/x-python",
   "name": "python",
   "nbconvert_exporter": "python",
   "pygments_lexer": "ipython3",
   "version": "3.6.5"
  }
 },
 "nbformat": 4,
 "nbformat_minor": 2
}
