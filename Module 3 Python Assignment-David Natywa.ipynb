{
 "cells": [
  {
   "cell_type": "markdown",
   "metadata": {},
   "source": [
    "# MSDS 430 Module 3 Python Assignment"
   ]
  },
  {
   "cell_type": "markdown",
   "metadata": {},
   "source": [
    "#### In this assignment you will complete the following exercises and submit your notebook (ipynb file) to Canvas. Your file should include all output, i.e. run each cell and save your file before submitting."
   ]
  },
  {
   "cell_type": "markdown",
   "metadata": {},
   "source": [
    "<font color=green> The main topics this week are loops and functions. There are two types of loops that we are working with - the `for loop` and the `while loop`. You have a couple of questions in this assignment dealing with each that will give you a chance to compare the two. Think about which is more concise and when each might be used. Additionally we are working with functions, user-defined and built-in. It will be worth your time to explore Python's built in functions beyond what is asked of you in this assignment. User-defined functions will appear quite frequently throughout the course and can be difficult to grasp at first. Be sure to use the `codelens` view in your interactive textbook for each of the sample programs provided to understand how Python processes functions. This will reinforce your understanding of the concept of functions.  </font>"
   ]
  },
  {
   "cell_type": "markdown",
   "metadata": {},
   "source": [
    "Problem 1 (2 pts.): Python has many built-in math functions within the math module. A list of these can be found at https://docs.python.org/3/library/math.html. Use the math.pi( ) function to calculate the volume of a sphere with radius 5 rounded to 3 decimals."
   ]
  },
  {
   "cell_type": "code",
   "execution_count": 14,
   "metadata": {},
   "outputs": [
    {
     "name": "stdout",
     "output_type": "stream",
     "text": [
      "523.599\n"
     ]
    }
   ],
   "source": [
    "import math\n",
    "\n",
    "volume = 4 / 3 * math.pi * 5 ** 3\n",
    "print(format(volume, \".3f\"))\n"
   ]
  },
  {
   "cell_type": "markdown",
   "metadata": {},
   "source": [
    "Problem 2 (2 pts.): Create a `for loop` that calculates and prints the square roots of the integers 1 through 10 (rounded to two decimal places). For example, in the first iteration of the loop the program should print:\n",
    "\n",
    "`The square root of 1 is 1.0`"
   ]
  },
  {
   "cell_type": "code",
   "execution_count": 15,
   "metadata": {},
   "outputs": [
    {
     "name": "stdout",
     "output_type": "stream",
     "text": [
      "The square root of 1 is 1.00\n",
      "The square root of 2 is 1.41\n",
      "The square root of 3 is 1.73\n",
      "The square root of 4 is 2.00\n",
      "The square root of 5 is 2.24\n",
      "The square root of 6 is 2.45\n",
      "The square root of 7 is 2.65\n",
      "The square root of 8 is 2.83\n",
      "The square root of 9 is 3.00\n",
      "The square root of 10 is 3.16\n"
     ]
    }
   ],
   "source": [
    "import math\n",
    "\n",
    "for i in range(1,11):\n",
    "    print(\"The square root of\", i, \"is\", format(math.sqrt(i), \".2f\"))\n"
   ]
  },
  {
   "cell_type": "markdown",
   "metadata": {},
   "source": [
    "Problem 3 (4 pts.): Create a while loop that calculates the square root of the integers 1 through 10."
   ]
  },
  {
   "cell_type": "code",
   "execution_count": 16,
   "metadata": {},
   "outputs": [
    {
     "name": "stdout",
     "output_type": "stream",
     "text": [
      "The square root of 1 is 1.00\n",
      "The square root of 2 is 1.41\n",
      "The square root of 3 is 1.73\n",
      "The square root of 4 is 2.00\n",
      "The square root of 5 is 2.24\n",
      "The square root of 6 is 2.45\n",
      "The square root of 7 is 2.65\n",
      "The square root of 8 is 2.83\n",
      "The square root of 9 is 3.00\n",
      "The square root of 10 is 3.16\n"
     ]
    }
   ],
   "source": [
    "import math\n",
    "\n",
    "count = 0\n",
    "\n",
    "while count in range(10):\n",
    "    count +=1\n",
    "    print(\"The square root of\", count, \"is\", format(math.sqrt(count), \".2f\"))\n",
    "    \n",
    "    \n",
    "    "
   ]
  },
  {
   "cell_type": "markdown",
   "metadata": {},
   "source": [
    "Problem 4 (6 pts.): Suppose the operator `!=` does not exist in Python. Define a function that takes any two numbers and gives the same result as the `!=` operator. You cannot use `!=` in your program. Test your program using `x = -12` and `y = 3`; `x = 3` and `y = -12`; and `x = y = -12`."
   ]
  },
  {
   "cell_type": "code",
   "execution_count": 17,
   "metadata": {},
   "outputs": [
    {
     "name": "stdout",
     "output_type": "stream",
     "text": [
      "True\n",
      "True\n",
      "False\n"
     ]
    }
   ],
   "source": [
    "def notEqual(x, y):\n",
    "    \n",
    "    if x == y:\n",
    "        print(\"False\")\n",
    "    else:\n",
    "        print(\"True\")\n",
    "        \n",
    "testOne = notEqual(-12,3)\n",
    "testTwo = notEqual(3,-12)\n",
    "testThree = notEqual(-12,-12)\n"
   ]
  },
  {
   "cell_type": "markdown",
   "metadata": {},
   "source": [
    "Problem 5 (8 pts.): Write a program containing user defined functions that prints out a tic-tac-toe grid. You will need a function to print the vertical bars, a function to print only dashes, a function to print '---+', and a function to print spaces. Your grid should look like this:\n",
    "\n",
    "&nbsp;&nbsp;&nbsp;&nbsp;&nbsp;&nbsp;|&nbsp;&nbsp;&nbsp;&nbsp;&nbsp;&nbsp;&nbsp;|<br>\n",
    "----+----+----<br>\n",
    "&nbsp;&nbsp;&nbsp;&nbsp;&nbsp;&nbsp;|&nbsp;&nbsp;&nbsp;&nbsp;&nbsp;&nbsp;&nbsp;|<br>\n",
    "----+----+----<br>\n",
    "&nbsp;&nbsp;&nbsp;&nbsp;&nbsp;&nbsp;|&nbsp;&nbsp;&nbsp;&nbsp;&nbsp;&nbsp;&nbsp;|"
   ]
  },
  {
   "cell_type": "code",
   "execution_count": 19,
   "metadata": {},
   "outputs": [
    {
     "name": "stdout",
     "output_type": "stream",
     "text": [
      "    |    |    \n",
      "              \n",
      "----+----+----\n",
      "              \n",
      "    |    |    \n",
      "              \n",
      "----+----+----\n",
      "              \n",
      "    |    |    \n"
     ]
    }
   ],
   "source": [
    "def vertical():\n",
    "    #prints vertical lines\n",
    "    print(\"    |    |    \")\n",
    "    \n",
    "def spaces():\n",
    "    #prints spaces\n",
    "    print(\"              \")\n",
    "    \n",
    "def plus():\n",
    "    #prints dashes and pluses\n",
    "    print(\"----+----+----\")\n",
    "    \n",
    "def dashes():\n",
    "    #not sure why this is needed!\n",
    "    print(\"--------------\")\n",
    "    \n",
    "def tictactoe():\n",
    "    #prints out a tic-tac-toe grid\n",
    "    vertical()\n",
    "    spaces()\n",
    "    plus()\n",
    "    spaces()\n",
    "    vertical()\n",
    "    spaces()\n",
    "    plus()    \n",
    "    spaces()\n",
    "    vertical()\n",
    "    \n",
    "tictactoe()\n"
   ]
  },
  {
   "cell_type": "code",
   "execution_count": null,
   "metadata": {},
   "outputs": [],
   "source": []
  }
 ],
 "metadata": {
  "kernelspec": {
   "display_name": "Python 3",
   "language": "python",
   "name": "python3"
  },
  "language_info": {
   "codemirror_mode": {
    "name": "ipython",
    "version": 3
   },
   "file_extension": ".py",
   "mimetype": "text/x-python",
   "name": "python",
   "nbconvert_exporter": "python",
   "pygments_lexer": "ipython3",
   "version": "3.6.5"
  }
 },
 "nbformat": 4,
 "nbformat_minor": 2
}
