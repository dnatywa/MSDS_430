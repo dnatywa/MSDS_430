{
 "cells": [
  {
   "cell_type": "markdown",
   "metadata": {},
   "source": [
    "# MSDS 430 Module 8 Python Assignment"
   ]
  },
  {
   "cell_type": "markdown",
   "metadata": {},
   "source": [
    "#### In this assignment you will complete the following exercises and submit your notebook (ipynb file) to Canvas. Your file should include all output, i.e. run each cell and save your file before submitting."
   ]
  },
  {
   "cell_type": "markdown",
   "metadata": {},
   "source": [
    "<font color=green> Python comes with many useful modules that have already been created. However, it's not uncommon to need to create some of your own for a specific use. In this assignment we begin looking at defining methods that might be useful for a class object. Attaching methods to a class is a convenient way to carry out certain operations or perform tasks. As extra practice, it's recommended that you try to create your own class that you might find useful in your career or for something that interests you. </font>"
   ]
  },
  {
   "cell_type": "markdown",
   "metadata": {},
   "source": [
    "Problem 1 (6 pts.): Using the `Point` class defined in Chapter 16 from your readings in the interactive textbook this week, add a method `reflect_x` to Point which returns a new Point representing the reflection about the x-axis. For example, `Point(3, 5).reflect_x( )` is `(3, -5)`."
   ]
  },
  {
   "cell_type": "code",
   "execution_count": 53,
   "metadata": {},
   "outputs": [
    {
     "name": "stdout",
     "output_type": "stream",
     "text": [
      "(3, -5)\n"
     ]
    }
   ],
   "source": [
    "class Point:\n",
    "    \"\"\" Point class for representing and manipulating x,y coordinates. \"\"\"\n",
    "\n",
    "    def __init__(self, initX, initY):\n",
    "        \"\"\" Create a new point at the given coordinates. \"\"\"\n",
    "        self.x = initX\n",
    "        self.y = initY\n",
    "        \n",
    "    def reflect_x(self):\n",
    "        \"\"\" Returns a new point representing the reflection about the x-axis. \"\"\"\n",
    "        new_y = (self.y * -1)\n",
    "        return (self.x, new_y)\n",
    "\n",
    "print(Point(3, 5).reflect_x())"
   ]
  },
  {
   "cell_type": "markdown",
   "metadata": {},
   "source": [
    "Problem 2 (10 pts.): The equation of a line is given by `y = mx + b`. The coefficient `m` describes the slope or steepness of the line and is calculated by taking the difference of the y-values of two points divided by the difference of the x-values. For example, the slope of the line passing through the two points `(4, 11)` and `(6, 15)` is `(15 - 11)/(6 - 4) = 4/2 = 2`. The coefficient `b` is where the line crosses the y-axis and is determined by using either point in the equation `y = mx + b` and solving for `b`. For example, using the point `(4, 11)` and `m = 2`, we have `11 = 2(4) + b` so `b = 3`.\n",
    "\n",
    "Write a method `get_line_to( )` in Point so that if a point instance is given another point, it will compute the equation of the line passing through the two points. It should return the coefficients as a tuple. For example, `print(Point(4, 11).get_line_to(Point(6, 15)))` will return `(2, 3)`. This represents the line `y = 2x + 3`."
   ]
  },
  {
   "cell_type": "code",
   "execution_count": 58,
   "metadata": {},
   "outputs": [
    {
     "name": "stdout",
     "output_type": "stream",
     "text": [
      "(2, 3)\n"
     ]
    }
   ],
   "source": [
    "class Point:\n",
    "    \"\"\" Point class for representing and manipulating x,y coordinates. \"\"\"\n",
    "\n",
    "    def __init__(self, initX, initY):\n",
    "        \"\"\" Create a new point at the given coordinates. \"\"\"\n",
    "        self.x = initX\n",
    "        self.y = initY\n",
    "\n",
    "    def getX(self):\n",
    "        return self.x\n",
    "\n",
    "    def getY(self):\n",
    "        return self.y\n",
    "    \n",
    "    def get_line_to(self, point1):\n",
    "        \"\"\" Return slope and coefficient. \"\"\"\n",
    "        ydiff = point1.getY() - self.y\n",
    "        xdiff = point1.getX() - self.x\n",
    "        m = int(round(ydiff / xdiff))\n",
    "        b = int(round(self.y - (m * self.x)))\n",
    "        \n",
    "        return (m,b)\n",
    "\n",
    "print(Point(4, 11).get_line_to(Point(6, 15)))"
   ]
  },
  {
   "cell_type": "markdown",
   "metadata": {},
   "source": [
    "Problem 3 (8 pts): Given the four corners of a rectangle (1, 2), (2, 1), (3, 4), and (4, 3), write a method in `Point` that determines the area of the rectangle."
   ]
  },
  {
   "cell_type": "code",
   "execution_count": 56,
   "metadata": {},
   "outputs": [
    {
     "name": "stdout",
     "output_type": "stream",
     "text": [
      "4.0000\n"
     ]
    }
   ],
   "source": [
    "class Point:\n",
    "    \"\"\" Point class for representing and manipulating x,y coordinates. \"\"\"\n",
    "\n",
    "    def __init__(self, initX, initY):\n",
    "        \"\"\" Create a new point at the given coordinates. \"\"\"\n",
    "        self.x = initX\n",
    "        self.y = initY\n",
    "\n",
    "    def getX(self):\n",
    "        return self.x\n",
    "\n",
    "    def getY(self):\n",
    "        return self.y\n",
    "\n",
    "def area(point1, point2, point3, point4):\n",
    "    \"\"\" Calculates area given four corners of a rectangle. \"\"\"\n",
    "    xdiff = point2.getX() - point1.getX()\n",
    "    ydiff = point2.getY() - point1.getY()\n",
    "    xdiff2 = point3.getX() - point1.getX()\n",
    "    ydiff2 = point3.getY() - point1.getY()\n",
    "    \n",
    "    dist_width = math.sqrt(xdiff**2 + ydiff**2)\n",
    "    dist_length = math.sqrt(xdiff2**2 + ydiff2**2)\n",
    "    \n",
    "    lengthxwidth = format(dist_width * dist_length, '.4f')\n",
    "    return lengthxwidth\n",
    "\n",
    "p = Point(1, 2)\n",
    "q = Point(2, 1)\n",
    "r = Point(3, 4)\n",
    "s = Point(4, 3)\n",
    "print(area(p, q, r, s))\n"
   ]
  },
  {
   "cell_type": "code",
   "execution_count": null,
   "metadata": {},
   "outputs": [],
   "source": []
  }
 ],
 "metadata": {
  "kernelspec": {
   "display_name": "Python 3",
   "language": "python",
   "name": "python3"
  },
  "language_info": {
   "codemirror_mode": {
    "name": "ipython",
    "version": 3
   },
   "file_extension": ".py",
   "mimetype": "text/x-python",
   "name": "python",
   "nbconvert_exporter": "python",
   "pygments_lexer": "ipython3",
   "version": "3.6.5"
  }
 },
 "nbformat": 4,
 "nbformat_minor": 2
}
