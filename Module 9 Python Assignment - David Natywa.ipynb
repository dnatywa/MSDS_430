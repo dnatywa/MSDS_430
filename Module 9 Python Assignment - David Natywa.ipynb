{
 "cells": [
  {
   "cell_type": "markdown",
   "metadata": {},
   "source": [
    "# MSDS 430 Module 9 Python Assignment"
   ]
  },
  {
   "cell_type": "markdown",
   "metadata": {},
   "source": [
    "#### In this assignment you will complete the following exercises and submit your notebook (ipynb file) to Canvas. Your file should include all output, i.e. run each cell and save your file before submitting."
   ]
  },
  {
   "cell_type": "markdown",
   "metadata": {},
   "source": [
    "<font color=green> In this module we're continuing our look at classes and objects. Our goal is to gain more practice with classes and objects to fit into the theme of extensibility. The more we can reuse our code, the more valuable it is. In last week's assignment we added methods to class that was already defined for us. For this assignment, we'll be creating our own. Just as with last week's assignment, you're encouraged to think about how classes might play a role in your industry and begin thinking about ones you might create for your own use. </font>"
   ]
  },
  {
   "cell_type": "markdown",
   "metadata": {},
   "source": [
    "Problem 1 (10 pts): Create a class called `CreditCard` using the `__init__` method to assign values for `current_balance` and `available_credit`.\n",
    "\n",
    "- Initialize the `current_balance` at 0 and `available_credit` at 10,000.\n",
    "\n",
    "- Complete a method called `makePurchase` that adds to the current balance and takes away from the available credit. This means an exception will need to be raised if there is an attempt to purchase more than what is avalaible.\n",
    "\n",
    "- Write a second method called `makePayment` that has `amount` as a parameter which reduces the current balance and adds to the available credit.\n"
   ]
  },
  {
   "cell_type": "code",
   "execution_count": 20,
   "metadata": {},
   "outputs": [],
   "source": [
    "class CreditCard:\n",
    "    \"\"\" BankAccount class for representing an account within a bank. \"\"\"\n",
    "\n",
    "    def __init__(self):\n",
    "        \"\"\" initialize the current_balance \"\"\" \n",
    "        self.current_balance = 0\n",
    "        # TODO: initialize the available_credit\n",
    "        self.available_credit = 10000\n",
    "        \n",
    "    def getBalance(self):\n",
    "        \"\"\" return the current_balance \"\"\"\n",
    "        return self.current_balance\n",
    "\n",
    "    def getAvailableCredit(self):\n",
    "        \"\"\" return the available_credit \"\"\"\n",
    "        return self.available_credit\n",
    "\n",
    "    def makePurchase(self, amount):\n",
    "        try:\n",
    "            if (amount <= self.available_credit):\n",
    "                # TODO: increment current_balance\n",
    "                self.current_balance += amount\n",
    "                \n",
    "                \"\"\" deduct from available credit \"\"\"\n",
    "                # TODO: deduct from available credit\n",
    "                self.available_credit -= amount\n",
    "\n",
    "            else:\n",
    "                raise Exception('Insufficient funds!')\n",
    "        except Exception as error:\n",
    "            print('Purchase Error: ' + str(error)+'\\n')\n",
    "\n",
    "    # TODO: write a makePayment function that takes amount as a parameter and \n",
    "    #       1) reduces current_balance by amount\n",
    "    #       2) increase available_credit by amount \n",
    "    \n",
    "    def makePayment(self, amount):\n",
    "        try:\n",
    "            if (amount > 0):\n",
    "                # reduce current_balance by amount\n",
    "                self.current_balance -= amount\n",
    "                \n",
    "                # increase available_credit by amount\n",
    "                self.available_credit += amount\n",
    "\n",
    "            else:\n",
    "                raise Exception('No payment made')\n",
    "        except Exception as error:\n",
    "            print('Payment Error: ' + str(error)+'\\n')\n",
    "            \n"
   ]
  },
  {
   "cell_type": "markdown",
   "metadata": {},
   "source": [
    "Problem 2 (8 pts.): Create a credit card object and perform the following transactions-\n",
    "- Display the available credit\n",
    "- Make a purchase of \\$1237\n",
    "- Display the available balance\n",
    "- Make a payment of \\$100\n",
    "- Make a purchase of \\$11.50\n",
    "- Display the available balance\n",
    "- Display the available credit\n",
    "- Make a purchase of \\$8,900.\n"
   ]
  },
  {
   "cell_type": "code",
   "execution_count": 30,
   "metadata": {},
   "outputs": [
    {
     "name": "stdout",
     "output_type": "stream",
     "text": [
      "available credit:\n",
      "10000\n",
      "current balance:\n",
      "1237\n",
      "current balance:\n",
      "1148.5\n",
      "available credit:\n",
      "8851.5\n",
      "Purchase Error: Insufficient funds!\n",
      "\n"
     ]
    }
   ],
   "source": [
    "# Initialize Credit Card object\n",
    "cc = CreditCard()\n",
    "\n",
    "# TODO: display the available credit\n",
    "print('available credit:')\n",
    "print(cc.getAvailableCredit())\n",
    "\n",
    "# TODO: make a purchase of $1237\n",
    "cc.makePurchase(1237)\n",
    "\n",
    "# TODO: display the available balance\n",
    "# Assuming available balance is synonomous with current balance\n",
    "print('current balance:')\n",
    "print(cc.getBalance())\n",
    "\n",
    "# TODO: make a payment of $100\n",
    "cc.makePayment(100)\n",
    "\n",
    "# TODO: make a purchase of $11.50\n",
    "cc.makePurchase(11.50)\n",
    "\n",
    "# TODO: display the available balance\n",
    "print('current balance:')\n",
    "print(cc.getBalance())\n",
    "\n",
    "# TODO: display the available credit\n",
    "print('available credit:')\n",
    "print(cc.getAvailableCredit())\n",
    "\n",
    "# TODO: make a purchase of $8,900\n",
    "cc.makePurchase(8900)"
   ]
  },
  {
   "cell_type": "code",
   "execution_count": null,
   "metadata": {},
   "outputs": [],
   "source": []
  }
 ],
 "metadata": {
  "kernelspec": {
   "display_name": "Python 3",
   "language": "python",
   "name": "python3"
  },
  "language_info": {
   "codemirror_mode": {
    "name": "ipython",
    "version": 3
   },
   "file_extension": ".py",
   "mimetype": "text/x-python",
   "name": "python",
   "nbconvert_exporter": "python",
   "pygments_lexer": "ipython3",
   "version": "3.6.5"
  },
  "varInspector": {
   "cols": {
    "lenName": 16,
    "lenType": 16,
    "lenVar": 40
   },
   "kernels_config": {
    "python": {
     "delete_cmd_postfix": "",
     "delete_cmd_prefix": "del ",
     "library": "var_list.py",
     "varRefreshCmd": "print(var_dic_list())"
    },
    "r": {
     "delete_cmd_postfix": ") ",
     "delete_cmd_prefix": "rm(",
     "library": "var_list.r",
     "varRefreshCmd": "cat(var_dic_list()) "
    }
   },
   "types_to_exclude": [
    "module",
    "function",
    "builtin_function_or_method",
    "instance",
    "_Feature"
   ],
   "window_display": false
  }
 },
 "nbformat": 4,
 "nbformat_minor": 2
}
