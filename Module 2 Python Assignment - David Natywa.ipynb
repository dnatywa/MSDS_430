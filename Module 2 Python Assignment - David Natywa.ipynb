{
 "cells": [
  {
   "cell_type": "markdown",
   "metadata": {},
   "source": [
    "# MSDS 430 Module 2 Python Assignment"
   ]
  },
  {
   "cell_type": "markdown",
   "metadata": {},
   "source": [
    "#### In this assignment you will complete the following exercises and submit your notebook (ipynb file) to Canvas. Your file should include all output, i.e. run each cell and save your file before submitting."
   ]
  },
  {
   "cell_type": "markdown",
   "metadata": {},
   "source": [
    "<font color=green> This week we are starting to learn how to write short programs in Python beyond \"Hello World!\" We're learning about different data types such as integers, floats, strings, and Boolean types. Each of these data types serves different purposes. In this assignment, we start working with these data types and get our feet wet with conditional statements. Conditionals are quite useful in programming and we will work with them from here on out. We will get some good practice with conditional statements in this assignment.  </font>"
   ]
  },
  {
   "cell_type": "markdown",
   "metadata": {},
   "source": [
    "Problem 1 (2 pts.): Convert the sum of 6.5 and 1.3 to both an integer and a string."
   ]
  },
  {
   "cell_type": "code",
   "execution_count": 51,
   "metadata": {},
   "outputs": [
    {
     "name": "stdout",
     "output_type": "stream",
     "text": [
      "7\n",
      "<class 'int'>\n"
     ]
    }
   ],
   "source": [
    "sum = 6.5 + 1.3\n",
    "sum_int = int(sum)\n",
    "\n",
    "print(sum_int)\n",
    "print(type(sum_int))\n"
   ]
  },
  {
   "cell_type": "code",
   "execution_count": 52,
   "metadata": {},
   "outputs": [
    {
     "name": "stdout",
     "output_type": "stream",
     "text": [
      "7.8\n",
      "<class 'str'>\n"
     ]
    }
   ],
   "source": [
    "sum_str = str(sum)\n",
    "\n",
    "print(sum_str)\n",
    "print(type(sum_str))\n"
   ]
  },
  {
   "cell_type": "markdown",
   "metadata": {},
   "source": [
    "Problem 2 (2 pts.): Use **all five** mathematical operators (`+` `-` `*` `/` `**`) in a **single expression** to produce the number 3."
   ]
  },
  {
   "cell_type": "code",
   "execution_count": 53,
   "metadata": {},
   "outputs": [
    {
     "name": "stdout",
     "output_type": "stream",
     "text": [
      "3.0\n"
     ]
    }
   ],
   "source": [
    "answer = (2 + 2 - 1) ** 3 / 9 * 1\n",
    "print(answer)"
   ]
  },
  {
   "cell_type": "markdown",
   "metadata": {},
   "source": [
    "Problem 3 (4 pts.): Write a program that asks a user for two numbers, then prints two sentences displaying the sum and product of those numbers,respectively. More specifically, the program should display the prompt `Enter a number: ` and then wait for the user's input. After the user enters his/her input followed by pressing the `enter` key, the program prompts the user to enter the second number in a similar fashion. <br>  <br>Here's a sample of what this should look like to the user:\n",
    "\n",
    "`Enter any number: `5<br>\n",
    "`Enter a second number: `123 <br> \n",
    "`The sum of 5 and 123 is 128.`<br>\n",
    "`The product of 5 and 123 is 615.`"
   ]
  },
  {
   "cell_type": "code",
   "execution_count": 54,
   "metadata": {},
   "outputs": [
    {
     "name": "stdout",
     "output_type": "stream",
     "text": [
      "Enter any number: 5\n",
      "Enter a second number: 123\n",
      "The sum of 5 and 123 is 128\n",
      "The product of 5 and 123 is 615\n"
     ]
    }
   ],
   "source": [
    "first_number = int(input(\"Enter any number: \"))\n",
    "second_number = int(input(\"Enter a second number: \"))\n",
    "\n",
    "sum_numbers = first_number + second_number\n",
    "product_numbers = first_number * second_number\n",
    "\n",
    "print(\"The sum of\", first_number, \"and\", second_number, \"is\", sum_numbers)\n",
    "print(\"The product of\", first_number, \"and\", second_number, \"is\", product_numbers)\n"
   ]
  },
  {
   "cell_type": "markdown",
   "metadata": {},
   "source": [
    "Problem 4 (2 pts.): Write a program that asks a user to enter any number then returns whether the number is a multiple of 5 or not. Here's a sample of what this should look like to the user:\n",
    "\n",
    "`Enter any number: `319<br>\n",
    "`319 is not a multiple of 5.`"
   ]
  },
  {
   "cell_type": "code",
   "execution_count": 56,
   "metadata": {},
   "outputs": [
    {
     "name": "stdout",
     "output_type": "stream",
     "text": [
      "Enter any number: 319\n",
      "319 is not a multiple of 5\n"
     ]
    }
   ],
   "source": [
    "number = int(input(\"Enter any number: \"))\n",
    "\n",
    "if number % 5 == 0:\n",
    "    print(number, \"is a multiple of 5\")\n",
    "else:\n",
    "    print(number, \"is not a multiple of 5\")\n",
    "    "
   ]
  },
  {
   "cell_type": "markdown",
   "metadata": {},
   "source": [
    "Problem 5 (2 pts.): Write a program to assign truth values to variables `P` and `Q` and evaluate `not P or Q`. Choose the appropriate truth values for `P` and `Q` so that the expression evaluates to `True`."
   ]
  },
  {
   "cell_type": "code",
   "execution_count": 57,
   "metadata": {},
   "outputs": [
    {
     "name": "stdout",
     "output_type": "stream",
     "text": [
      "yes\n",
      "yes\n",
      "this happens\n"
     ]
    }
   ],
   "source": [
    "P = 1\n",
    "if P == True:\n",
    "    print(\"yes\")\n",
    "\n",
    "Q = 1\n",
    "if Q == True:\n",
    "    print(\"yes\")\n",
    "\n",
    "if P == True and Q == False:\n",
    "    print(\"victory\")\n",
    "    \n",
    "if not P or Q:\n",
    "    print(\"this happens\")"
   ]
  },
  {
   "cell_type": "markdown",
   "metadata": {},
   "source": [
    "Problem 6 (6 pts.): Jake is looking for a job but has some conditions. He would love a job in Hawaii and would accept it if it pays more than 40,000 per year. He does not like New York but would take a job if it pays more than 100,000 per year. He would work anywhere else if it pays more than 60,000. Write a program that prompts the user to enter two input values, `location` and `pay`, and returns \n",
    "\n",
    "(1) \"I'll take it!\" if the user entered Hawaii and more than 40000, New York and more than 100000, or anywhere else with pay more than 60000, for the `location` and `pay`, respectively, or  <br> \n",
    "(2) \"No way.\" if the user enters Hawaii and less than 40000 or New York and less than 100000, for the `location` and `pay`, respectively, or <br> \n",
    "(3) \"No thanks, I can find something better.\" if the `location` is anywhere else and the `pay` is less than 60000."
   ]
  },
  {
   "cell_type": "code",
   "execution_count": 64,
   "metadata": {},
   "outputs": [
    {
     "name": "stdout",
     "output_type": "stream",
     "text": [
      "Enter location: Arizona\n",
      "Enter pay: 59999\n",
      "No thanks, I can find something better.\n"
     ]
    }
   ],
   "source": [
    "location = input(\"Enter location: \")\n",
    "pay = int(input(\"Enter pay: \"))\n",
    "\n",
    "if location == \"Hawaii\" and pay > 40000:\n",
    "    print(\"I'll take it!\")\n",
    "elif location == \"New York\" and pay > 100000:\n",
    "    print(\"I'll take it!\")\n",
    "elif location == \"New York\" and pay < 100000:\n",
    "    print(\"No way.\")\n",
    "elif pay > 60000:\n",
    "    print(\"I'll take it!\")\n",
    "elif location == \"Hawaii\" and pay < 40000:\n",
    "    print(\"No way.\")\n",
    "else:\n",
    "    print(\"No thanks, I can find something better.\")\n"
   ]
  },
  {
   "cell_type": "code",
   "execution_count": null,
   "metadata": {},
   "outputs": [],
   "source": []
  }
 ],
 "metadata": {
  "kernelspec": {
   "display_name": "Python 3",
   "language": "python",
   "name": "python3"
  },
  "language_info": {
   "codemirror_mode": {
    "name": "ipython",
    "version": 3
   },
   "file_extension": ".py",
   "mimetype": "text/x-python",
   "name": "python",
   "nbconvert_exporter": "python",
   "pygments_lexer": "ipython3",
   "version": "3.6.5"
  }
 },
 "nbformat": 4,
 "nbformat_minor": 2
}
