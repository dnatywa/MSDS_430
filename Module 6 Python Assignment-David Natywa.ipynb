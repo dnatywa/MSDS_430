{
 "cells": [
  {
   "cell_type": "markdown",
   "metadata": {},
   "source": [
    "# MSDS 430 Module 6 Python Assignment"
   ]
  },
  {
   "cell_type": "markdown",
   "metadata": {},
   "source": [
    "#### In this assignment you will complete the following exercises and submit your notebook (ipynb file) to Canvas. Your file should include all output, i.e. run each cell and save your file before submitting."
   ]
  },
  {
   "cell_type": "markdown",
   "metadata": {},
   "source": [
    "<font color=green> Building on the previous module, we're now learning more about how to work with data and display information neatly plus manipulate data more efficiently. In this assignment we learn how to create our own table of data plus read data, perform some calculations, and print out the information neatly. We're also learning to create a simple table with Boolean values. Take some time to practice various techniques of organizing data learned in the readings and videos for this week. </font>"
   ]
  },
  {
   "cell_type": "markdown",
   "metadata": {},
   "source": [
    "Problem 1 (8 pts.): Create a table that has 15 pay grades (rows) and within each pay grade are 10 steps (columns). Grade 1 step 1 starts at $21,885. Each step in a pay grade increases by 1.4 percent from the previous step. Each pay grade increases by 4.3 percent from step 1 in the previous grade. Label each row and column appropriately. Print the table and write to a file. Use integer values only."
   ]
  },
  {
   "cell_type": "code",
   "execution_count": 59,
   "metadata": {},
   "outputs": [
    {
     "name": "stdout",
     "output_type": "stream",
     "text": [
      "grade \t step 1 \t step 2 \t step 3 \t step 4 \t step 5 \t step 6 \t step 7 \t step 8 \t step 9 \t step 10\n",
      "1 \t 21885 \t 22191 \t 22501 \t 22816 \t 23135 \t 23458 \t 23786 \t 24119 \t 24456 \t 24798\n",
      "2 \t 22826 \t 23145 \t 23469 \t 23797 \t 24130 \t 24467 \t 24809 \t 25156 \t 25508 \t 25865\n",
      "3 \t 23807 \t 24140 \t 24477 \t 24819 \t 25166 \t 25518 \t 25875 \t 26237 \t 26604 \t 26976\n",
      "4 \t 24830 \t 25177 \t 25529 \t 25886 \t 26248 \t 26615 \t 26987 \t 27364 \t 27747 \t 28135\n",
      "5 \t 25897 \t 26259 \t 26626 \t 26998 \t 27375 \t 27758 \t 28146 \t 28540 \t 28939 \t 29344\n",
      "6 \t 27010 \t 27388 \t 27771 \t 28159 \t 28553 \t 28952 \t 29357 \t 29767 \t 30183 \t 30605\n",
      "7 \t 28171 \t 28565 \t 28964 \t 29369 \t 29780 \t 30196 \t 30618 \t 31046 \t 31480 \t 31920\n",
      "8 \t 29382 \t 29793 \t 30210 \t 30632 \t 31060 \t 31494 \t 31934 \t 32381 \t 32834 \t 33293\n",
      "9 \t 30645 \t 31074 \t 31509 \t 31950 \t 32397 \t 32850 \t 33309 \t 33775 \t 34247 \t 34726\n",
      "10 \t 31962 \t 32409 \t 32862 \t 33322 \t 33788 \t 34261 \t 34740 \t 35226 \t 35719 \t 36219\n",
      "11 \t 33336 \t 33802 \t 34275 \t 34754 \t 35240 \t 35733 \t 36233 \t 36740 \t 37254 \t 37775\n",
      "12 \t 34769 \t 35255 \t 35748 \t 36248 \t 36755 \t 37269 \t 37790 \t 38319 \t 38855 \t 39398\n",
      "13 \t 36264 \t 36771 \t 37285 \t 37806 \t 38335 \t 38871 \t 39415 \t 39966 \t 40525 \t 41092\n",
      "14 \t 37823 \t 38352 \t 38888 \t 39432 \t 39984 \t 40543 \t 41110 \t 41685 \t 42268 \t 42859\n",
      "15 \t 39449 \t 40001 \t 40561 \t 41128 \t 41703 \t 42286 \t 42878 \t 43478 \t 44086 \t 44703\n"
     ]
    }
   ],
   "source": [
    "print('grade','\\t','step 1','\\t','step 2','\\t', 'step 3', \n",
    "      '\\t','step 4','\\t','step 5','\\t','step 6','\\t','step 7', \n",
    "      '\\t','step 8','\\t','step 9','\\t','step 10')\n",
    "\n",
    "salary = 21885\n",
    "stepincrease = 1.014\n",
    "gradeincrease = 1.043\n",
    "\n",
    "outfile = open('paygrade.txt', 'w')\n",
    "\n",
    "for i in range(15):\n",
    "    step1 = int(salary)\n",
    "    step2 = int(step1 * stepincrease)\n",
    "    step3 = int(step2 * stepincrease)\n",
    "    step4 = int(step3 * stepincrease)\n",
    "    step5 = int(step4 * stepincrease)\n",
    "    step6 = int(step5 * stepincrease)\n",
    "    step7 = int(step6 * stepincrease)\n",
    "    step8 = int(step7 * stepincrease)\n",
    "    step9 = int(step8 * stepincrease)\n",
    "    step10 = int(step9 * stepincrease)\n",
    "    print(i + 1, '\\t', step1, '\\t', step2, '\\t', step3, '\\t', step4, '\\t', step5, '\\t', step6, '\\t', step7, '\\t', step8, '\\t', step9, '\\t', step10)\n",
    "    salary = int(salary * gradeincrease)\n",
    "    \n",
    "outfile.close()\n",
    "\n",
    "# I did everything but write to a file.  Would love to understand how to do this with a table!"
   ]
  },
  {
   "cell_type": "markdown",
   "metadata": {},
   "source": [
    "Problem 2 (8 pts.): Use the file pitching_stats.csv for this problem. Read the data and calculate the ERA for the top ten pitchers. ERA = (earned runs*9)/(innings pitched). Print out a table with the pitcher's name, team, earned runs, innings pitched, and ERA (rounded to two decimals). Label columns appropriately."
   ]
  },
  {
   "cell_type": "code",
   "execution_count": 60,
   "metadata": {},
   "outputs": [
    {
     "name": "stdout",
     "output_type": "stream",
     "text": [
      "           name team     IP  ER   ERA\n",
      "0     DeGrom, J  NYM  159.0  32  1.81\n",
      "1       Sale, C  BOS  146.0  32  1.97\n",
      "2      Snell, B   TB  133.0  31  2.10\n",
      "3   Scherzer, M  WSH  174.2  41  2.12\n",
      "4      Bauer, T  CLE  166.0  41  2.22\n",
      "5       Nola, A  PHI  161.0  40  2.24\n",
      "6  Verlander, J  HOU  164.1  46  2.52\n",
      "7     Kluber, C  CLE  168.0  50  2.68\n",
      "8       Cole, G  HOU  159.2  48  2.71\n",
      "9     Morton, C  HOU  142.1  45  2.85\n"
     ]
    }
   ],
   "source": [
    "import pandas\n",
    "\n",
    "df = pandas.read_csv('pitching_stats.csv')\n",
    "ERA = (df['ER'] * 9) / df['IP']\n",
    "ERAround = ERA.round(2)\n",
    "df['ERA'] = ERAround\n",
    "dfnew = df.drop(['rank'], axis=1)\n",
    "print(dfnew)\n"
   ]
  },
  {
   "cell_type": "markdown",
   "metadata": {},
   "source": [
    "Problem 3 (6 pts): Write a program that creates a table with two columns. Label the first column 'n' and the second column 'Prime or not?' Your table should list integers 2 through 50 and display 'True' if the number is prime and 'False' if the number is not prime."
   ]
  },
  {
   "cell_type": "code",
   "execution_count": 61,
   "metadata": {},
   "outputs": [
    {
     "name": "stdout",
     "output_type": "stream",
     "text": [
      "n \t Prime or not?\n",
      "2 \t True\n",
      "3 \t True\n",
      "4 \t False\n",
      "5 \t True\n",
      "6 \t False\n",
      "7 \t True\n",
      "8 \t False\n",
      "9 \t False\n",
      "10 \t False\n",
      "11 \t True\n",
      "12 \t False\n",
      "13 \t True\n",
      "14 \t False\n",
      "15 \t False\n",
      "16 \t False\n",
      "17 \t True\n",
      "18 \t False\n",
      "19 \t True\n",
      "20 \t False\n",
      "21 \t False\n",
      "22 \t False\n",
      "23 \t True\n",
      "24 \t False\n",
      "25 \t False\n",
      "26 \t False\n",
      "27 \t False\n",
      "28 \t False\n",
      "29 \t True\n",
      "30 \t False\n",
      "31 \t True\n",
      "32 \t False\n",
      "33 \t False\n",
      "34 \t False\n",
      "35 \t False\n",
      "36 \t False\n",
      "37 \t True\n",
      "38 \t False\n",
      "39 \t False\n",
      "40 \t False\n",
      "41 \t True\n",
      "42 \t False\n",
      "43 \t True\n",
      "44 \t False\n",
      "45 \t False\n",
      "46 \t False\n",
      "47 \t True\n",
      "48 \t False\n",
      "49 \t False\n",
      "50 \t False\n"
     ]
    }
   ],
   "source": [
    "import sympy\n",
    "\n",
    "print('n', '\\t', 'Prime or not?')\n",
    "\n",
    "for i in range(2,51):\n",
    "    print(i, '\\t', sympy.isprime(i))"
   ]
  },
  {
   "cell_type": "code",
   "execution_count": null,
   "metadata": {},
   "outputs": [],
   "source": []
  }
 ],
 "metadata": {
  "kernelspec": {
   "display_name": "Python 3",
   "language": "python",
   "name": "python3"
  },
  "language_info": {
   "codemirror_mode": {
    "name": "ipython",
    "version": 3
   },
   "file_extension": ".py",
   "mimetype": "text/x-python",
   "name": "python",
   "nbconvert_exporter": "python",
   "pygments_lexer": "ipython3",
   "version": "3.6.5"
  }
 },
 "nbformat": 4,
 "nbformat_minor": 2
}
