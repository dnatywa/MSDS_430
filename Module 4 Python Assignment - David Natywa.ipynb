{
 "cells": [
  {
   "cell_type": "markdown",
   "metadata": {},
   "source": [
    "# MSDS 430 Module 4 Python Assignment"
   ]
  },
  {
   "cell_type": "markdown",
   "metadata": {},
   "source": [
    "#### In this assignment you will complete the following exercises and submit your notebook (ipynb file) to Canvas. Your file should include all output, i.e. run each cell and save your file before submitting."
   ]
  },
  {
   "cell_type": "markdown",
   "metadata": {},
   "source": [
    "<font color=green> The focus this week is structured data and string objects. We have worked with lists, tuples, and dictionaries before, but now we will perform some manipulations on these. We will perform operations and write list and dict comprehensions. The interactive textbook and the videos for this week have some very good examples to work through. You are encouraged to take the time to carefully work through those prior to attempting this assignment. The more you practice, the better you will become.  </font>"
   ]
  },
  {
   "cell_type": "markdown",
   "metadata": {},
   "source": [
    "Problem 1 (4 pts.): Create a function `cumulative_sum` that finds the cumulative sum of a list with at least 4 elements. For example, `cumulative_sum([3, 8, 13, 14])` should return `[3, 11, 24, 38]`."
   ]
  },
  {
   "cell_type": "code",
   "execution_count": 17,
   "metadata": {},
   "outputs": [
    {
     "name": "stdout",
     "output_type": "stream",
     "text": [
      "[3, 11, 24, 38]\n"
     ]
    }
   ],
   "source": [
    "def cumulative_sum(lst):\n",
    "    \n",
    "    cumulative = 0\n",
    "    cumulative_list = []\n",
    "    \n",
    "    for i in lst:\n",
    "        cumulative = cumulative + i\n",
    "        cumulative_list.append(cumulative)\n",
    "        \n",
    "    print(cumulative_list)\n",
    "        \n",
    "lst = [3, 8, 13, 14]\n",
    "\n",
    "cumulative_sum(lst)\n"
   ]
  },
  {
   "cell_type": "markdown",
   "metadata": {},
   "source": [
    "Problem 2 (2 pts.): Write a list comprehension, `cube_list`, that calculates the cubes of the numbers 1 through 10."
   ]
  },
  {
   "cell_type": "code",
   "execution_count": 18,
   "metadata": {},
   "outputs": [
    {
     "name": "stdout",
     "output_type": "stream",
     "text": [
      "[1, 8, 27, 64, 125, 216, 343, 512, 729, 1000]\n"
     ]
    }
   ],
   "source": [
    "original_list = [1,2,3,4,5,6,7,8,9,10]\n",
    "\n",
    "cube_list = [number ** 3 for number in original_list]\n",
    "\n",
    "print(cube_list)\n"
   ]
  },
  {
   "cell_type": "markdown",
   "metadata": {},
   "source": [
    "Problem 3 (2 pts): Convert the list comprehension `cube_list` in \\#2 above into a dictionary, `cubes_dict`, whose keys are the numbers `1` through `10` and whose corresponding values are the elements of `cubes_list`."
   ]
  },
  {
   "cell_type": "code",
   "execution_count": 21,
   "metadata": {},
   "outputs": [
    {
     "name": "stdout",
     "output_type": "stream",
     "text": [
      "{1: 1, 2: 8, 3: 27, 4: 64, 5: 125, 6: 216, 7: 343, 8: 512, 9: 729, 10: 1000}\n"
     ]
    }
   ],
   "source": [
    "zip_lists = zip(original_list, cube_list)\n",
    "\n",
    "cubes_dict = dict(zip_lists)\n",
    "\n",
    "print(cubes_dict)\n"
   ]
  },
  {
   "cell_type": "markdown",
   "metadata": {},
   "source": [
    "Problem 4 (6 pts): Pig Latin takes the first letter of a word, moves it to the end of the word, and appends \"ay\" at the end. The only exception is if the word begins with a vowel. When this is the case, the first letter remains and \"hay\" is appended to the end of the word. For example, dog --> ogday or owl --> owlhay. Define a function called pig_latin that has a single word as input and converts the word to Pig Latin. It will be helpful to define a list at the top of your code called VOWELS."
   ]
  },
  {
   "cell_type": "code",
   "execution_count": 27,
   "metadata": {
    "scrolled": true
   },
   "outputs": [
    {
     "name": "stdout",
     "output_type": "stream",
     "text": [
      "Enter a word: owl\n",
      "owlhay\n"
     ]
    }
   ],
   "source": [
    "word = input(\"Enter a word: \")\n",
    "VOWELS = \"aeiouAEIOU\"\n",
    "first = word[0]\n",
    " \n",
    "def pig_latin(word):\n",
    "    if first not in VOWELS:\n",
    "        new_word = word[1:] + first + \"ay\"\n",
    "        print(new_word)\n",
    "    else:\n",
    "        new_word = word +\"hay\"\n",
    "        print(new_word)\n",
    "        \n",
    "pig_latin(word)"
   ]
  },
  {
   "cell_type": "markdown",
   "metadata": {},
   "source": [
    "Problem 5 (4 pts.): Create a program that takes the string `\"we don't need no education we don't need no thought control\"` that counts how many times each word appears."
   ]
  },
  {
   "cell_type": "code",
   "execution_count": 31,
   "metadata": {},
   "outputs": [
    {
     "name": "stdout",
     "output_type": "stream",
     "text": [
      "{\"don't\": 2, 'thought': 1, 'we': 2, 'need': 2, 'no': 2, 'control': 1, 'education': 1}\n"
     ]
    }
   ],
   "source": [
    "sentence = \"we don't need no education we don't need no thought control\"\n",
    "words = sentence.split()\n",
    "unique_words = set(words)\n",
    "\n",
    "def count(sentence):\n",
    "    word_count = {i : sentence.count(\"\"+i+\"\") for i in unique_words}\n",
    "    print(word_count)\n",
    "\n",
    "count(sentence)    "
   ]
  },
  {
   "cell_type": "code",
   "execution_count": null,
   "metadata": {},
   "outputs": [],
   "source": []
  }
 ],
 "metadata": {
  "kernelspec": {
   "display_name": "Python 3",
   "language": "python",
   "name": "python3"
  },
  "language_info": {
   "codemirror_mode": {
    "name": "ipython",
    "version": 3
   },
   "file_extension": ".py",
   "mimetype": "text/x-python",
   "name": "python",
   "nbconvert_exporter": "python",
   "pygments_lexer": "ipython3",
   "version": "3.6.5"
  }
 },
 "nbformat": 4,
 "nbformat_minor": 2
}
