{
 "cells": [
  {
   "cell_type": "markdown",
   "metadata": {
    "colab_type": "text",
    "id": "8XUkreuq_3gW"
   },
   "source": [
    "# MSDS 430 Module 7 Python Assignment"
   ]
  },
  {
   "cell_type": "code",
   "execution_count": 68,
   "metadata": {
    "colab": {
     "base_uri": "https://localhost:8080/",
     "height": 1054
    },
    "colab_type": "code",
    "id": "sb6CzBjaAVQs",
    "outputId": "a63004d4-62e3-4ba0-864e-4e6973defbae"
   },
   "outputs": [
    {
     "data": {
      "text/plain": [
       "{'Player': {0: 'Degrom',\n",
       "  1: 'Sale',\n",
       "  2: 'Snell',\n",
       "  3: 'Scherzer',\n",
       "  4: 'Bauer',\n",
       "  5: 'Nola',\n",
       "  6: 'Verlander',\n",
       "  7: 'Kluber',\n",
       "  8: 'Cole',\n",
       "  9: 'Mikolas'},\n",
       " 'Team': {0: 'NYM',\n",
       "  1: 'BOS',\n",
       "  2: 'TB',\n",
       "  3: 'WSH',\n",
       "  4: 'CLE',\n",
       "  5: 'PHI',\n",
       "  6: 'HOU',\n",
       "  7: 'CLE',\n",
       "  8: 'HOU',\n",
       "  9: 'STL'},\n",
       " 'games_won': {0: 7,\n",
       "  1: 12,\n",
       "  2: 13,\n",
       "  3: 15,\n",
       "  4: 12,\n",
       "  5: 13,\n",
       "  6: 11,\n",
       "  7: 15,\n",
       "  8: 10,\n",
       "  9: 12},\n",
       " 'games_lost': {0: 7, 1: 4, 2: 5, 3: 5, 4: 6, 5: 3, 6: 8, 7: 6, 8: 5, 9: 3},\n",
       " 'ERA': {0: 1.81,\n",
       "  1: 1.97,\n",
       "  2: 2.18,\n",
       "  3: 2.19,\n",
       "  4: 2.22,\n",
       "  5: 2.28,\n",
       "  6: 2.52,\n",
       "  7: 2.68,\n",
       "  8: 2.75,\n",
       "  9: 2.85},\n",
       " 'games_pitched': {0: 24,\n",
       "  1: 23,\n",
       "  2: 22,\n",
       "  3: 25,\n",
       "  4: 25,\n",
       "  5: 24,\n",
       "  6: 26,\n",
       "  7: 25,\n",
       "  8: 24,\n",
       "  9: 24},\n",
       " 'innings_pitched': {0: 159.0,\n",
       "  1: 146.0,\n",
       "  2: 128.0,\n",
       "  3: 168.2,\n",
       "  4: 166.0,\n",
       "  5: 154.0,\n",
       "  6: 164.1,\n",
       "  7: 168.0,\n",
       "  8: 153.2,\n",
       "  9: 151.1}}"
      ]
     },
     "execution_count": 68,
     "metadata": {},
     "output_type": "execute_result"
    }
   ],
   "source": [
    "import pandas as pd\n",
    "df = pd.read_csv(\"https://raw.githubusercontent.com/noahgift/nw430/master/data/pitching_stats.txt\",\n",
    "                delim_whitespace=True, \n",
    "                names=['Player', 'Team', 'games_won', 'games_lost', 'ERA', 'games_pitched', 'innings_pitched'])\n",
    "my_dict = df.to_dict()\n",
    "my_dict\n",
    "\n"
   ]
  },
  {
   "cell_type": "markdown",
   "metadata": {
    "colab_type": "text",
    "id": "1r-YU30e_3gX"
   },
   "source": [
    "#### In this assignment you will complete the following exercises and submit your notebook (ipynb file) to Canvas. Your file should include all output, i.e. run each cell and save your file before submitting."
   ]
  },
  {
   "cell_type": "markdown",
   "metadata": {
    "colab_type": "text",
    "id": "2IOx9711_3gZ"
   },
   "source": [
    "<font color=green> As mentioned in the summary for this module, some of the goals this week are to practice working more extensively with lists and dictionaries. An important technique when working with these objects is to use list comprehensions or dict comprehensions. One reason for using these is to make programs more efficient. Additionally, we're working with techniques for converting, sorting, and grouping data that will be good practice for later in the program and in data science. </font>"
   ]
  },
  {
   "cell_type": "markdown",
   "metadata": {
    "colab_type": "text",
    "id": "To7VfhH6_3gZ"
   },
   "source": [
    "Problem 1 (4 pts): In a previous assignment you wrote a program that asked a user for two numbers and it returned the sum and product of those two numbers. Add an exception to that program to handle the case of the user accidentally entering a letter for one or both of the numbers."
   ]
  },
  {
   "cell_type": "code",
   "execution_count": 69,
   "metadata": {},
   "outputs": [
    {
     "name": "stdout",
     "output_type": "stream",
     "text": [
      "Enter any number: 5\n",
      "Enter a second number: 5\n",
      "The sum of 5 and 5 is 10\n",
      "The product of 5 and 5 is 25\n"
     ]
    }
   ],
   "source": [
    "try:\n",
    "    first_number = int(input(\"Enter any number: \"))\n",
    "    second_number = int(input(\"Enter a second number: \"))\n",
    "\n",
    "    sum_numbers = first_number + second_number\n",
    "    product_numbers = first_number * second_number\n",
    "\n",
    "    print(\"The sum of\", first_number, \"and\", second_number, \"is\", sum_numbers)\n",
    "    print(\"The product of\", first_number, \"and\", second_number, \"is\", product_numbers)\n",
    "except: print('Not a number!')"
   ]
  },
  {
   "cell_type": "markdown",
   "metadata": {
    "colab_type": "text",
    "id": "5XbHgjRf_3gd"
   },
   "source": [
    "Problem 2 (6 pts.): Using the file `pitching_stats.csv`, read the data and convert it to a list of dictionaries, i.e. each row should be converted to a dictionary with keys `'name'`, `'team'`, `'IP'`, and `'ER'`. Print the list."
   ]
  },
  {
   "cell_type": "code",
   "execution_count": 70,
   "metadata": {
    "colab": {},
    "colab_type": "code",
    "id": "d6D6n0OR_3ge"
   },
   "outputs": [
    {
     "name": "stdout",
     "output_type": "stream",
     "text": [
      "dict_values([{'rank': 1, 'name': 'DeGrom, J', 'team': 'NYM', 'IP': 159.0, 'ER': 32}, {'rank': 2, 'name': 'Sale, C', 'team': 'BOS', 'IP': 146.0, 'ER': 32}, {'rank': 3, 'name': 'Snell, B', 'team': 'TB', 'IP': 133.0, 'ER': 31}, {'rank': 4, 'name': 'Scherzer, M', 'team': 'WSH', 'IP': 174.2, 'ER': 41}, {'rank': 5, 'name': 'Bauer, T', 'team': 'CLE', 'IP': 166.0, 'ER': 41}, {'rank': 6, 'name': 'Nola, A', 'team': 'PHI', 'IP': 161.0, 'ER': 40}, {'rank': 7, 'name': 'Verlander, J', 'team': 'HOU', 'IP': 164.1, 'ER': 46}, {'rank': 8, 'name': 'Kluber, C', 'team': 'CLE', 'IP': 168.0, 'ER': 50}, {'rank': 9, 'name': 'Cole, G', 'team': 'HOU', 'IP': 159.2, 'ER': 48}, {'rank': 10, 'name': 'Morton, C', 'team': 'HOU', 'IP': 142.1, 'ER': 45}])\n"
     ]
    }
   ],
   "source": [
    "mlbfile = pandas.read_csv('pitching_stats.csv')\n",
    "mlbfilelist = mlbfile.T.to_dict().values()\n",
    "print(mlbfilelist)\n"
   ]
  },
  {
   "cell_type": "markdown",
   "metadata": {
    "colab_type": "text",
    "id": "RsuMsKq8_3gg"
   },
   "source": [
    "Problem 3 (6 pts.): Convert the list in the previous problem to a dictionary using a dict comprehension. Your key should be the pitcher's ERA."
   ]
  },
  {
   "cell_type": "code",
   "execution_count": 78,
   "metadata": {
    "colab": {},
    "colab_type": "code",
    "id": "s7DAAdhQ_3gi"
   },
   "outputs": [
    {
     "ename": "ValueError",
     "evalue": "too many values to unpack (expected 2)",
     "output_type": "error",
     "traceback": [
      "\u001b[0;31m---------------------------------------------------------------------------\u001b[0m",
      "\u001b[0;31mValueError\u001b[0m                                Traceback (most recent call last)",
      "\u001b[0;32m<ipython-input-78-8f45008ea5b9>\u001b[0m in \u001b[0;36m<module>\u001b[0;34m()\u001b[0m\n\u001b[1;32m      1\u001b[0m \u001b[0mnew_dict\u001b[0m \u001b[0;34m=\u001b[0m \u001b[0;34m{\u001b[0m\u001b[0;34m}\u001b[0m\u001b[0;34m\u001b[0m\u001b[0m\n\u001b[0;32m----> 2\u001b[0;31m \u001b[0;32mfor\u001b[0m \u001b[0;34m(\u001b[0m\u001b[0mkey\u001b[0m\u001b[0;34m,\u001b[0m \u001b[0mvalue\u001b[0m\u001b[0;34m)\u001b[0m \u001b[0;32min\u001b[0m \u001b[0mmlbfilelist\u001b[0m\u001b[0;34m:\u001b[0m\u001b[0;34m\u001b[0m\u001b[0m\n\u001b[0m\u001b[1;32m      3\u001b[0m     \u001b[0;32mif\u001b[0m \u001b[0mkey\u001b[0m \u001b[0;34m==\u001b[0m \u001b[0;34m'ER'\u001b[0m\u001b[0;34m:\u001b[0m\u001b[0;34m\u001b[0m\u001b[0m\n\u001b[1;32m      4\u001b[0m         \u001b[0mnew_dict\u001b[0m\u001b[0;34m[\u001b[0m\u001b[0mkey\u001b[0m\u001b[0;34m]\u001b[0m\u001b[0;34m.\u001b[0m\u001b[0mappend\u001b[0m\u001b[0;34m(\u001b[0m\u001b[0mvalue\u001b[0m\u001b[0;34m)\u001b[0m\u001b[0;34m\u001b[0m\u001b[0m\n\u001b[1;32m      5\u001b[0m     \u001b[0;32melse\u001b[0m\u001b[0;34m:\u001b[0m\u001b[0;34m\u001b[0m\u001b[0m\n",
      "\u001b[0;31mValueError\u001b[0m: too many values to unpack (expected 2)"
     ]
    }
   ],
   "source": [
    "new_dict = {}\n",
    "for (key, value) in mlbfilelist:\n",
    "    if key == 'ER':\n",
    "        new_dict[key].append(value)\n",
    "    else:\n",
    "        new_dict[key] = [value]\n",
    "print(new_dict)\n",
    "\n",
    "# Would like to see how this is done!"
   ]
  },
  {
   "cell_type": "markdown",
   "metadata": {
    "colab_type": "text",
    "id": "w0-1ukWw_3gk"
   },
   "source": [
    "Problem 4 (4 pts): Group the list from Problem 1 by team name. "
   ]
  },
  {
   "cell_type": "code",
   "execution_count": 72,
   "metadata": {
    "colab": {},
    "colab_type": "code",
    "id": "ItSoS0DX_3gl"
   },
   "outputs": [
    {
     "name": "stdout",
     "output_type": "stream",
     "text": [
      "BOS\n",
      "   rank     name team     IP  ER\n",
      "1     2  Sale, C  BOS  146.0  32\n",
      "CLE\n",
      "   rank       name team     IP  ER\n",
      "4     5   Bauer, T  CLE  166.0  41\n",
      "7     8  Kluber, C  CLE  168.0  50\n",
      "HOU\n",
      "   rank          name team     IP  ER\n",
      "6     7  Verlander, J  HOU  164.1  46\n",
      "8     9       Cole, G  HOU  159.2  48\n",
      "9    10     Morton, C  HOU  142.1  45\n",
      "NYM\n",
      "   rank       name team     IP  ER\n",
      "0     1  DeGrom, J  NYM  159.0  32\n",
      "PHI\n",
      "   rank     name team     IP  ER\n",
      "5     6  Nola, A  PHI  161.0  40\n",
      "TB\n",
      "   rank      name team     IP  ER\n",
      "2     3  Snell, B   TB  133.0  31\n",
      "WSH\n",
      "   rank         name team     IP  ER\n",
      "3     4  Scherzer, M  WSH  174.2  41\n"
     ]
    }
   ],
   "source": [
    "grouped = mlbfile.groupby('team')\n",
    "\n",
    "for name,group in grouped:\n",
    "    print(name)\n",
    "    print(group)\n",
    "  "
   ]
  },
  {
   "cell_type": "markdown",
   "metadata": {
    "colab_type": "text",
    "id": "sfBScEB9_3gn"
   },
   "source": [
    "Problem 5 (4 pts): Sort the data from Problem 1 by team name."
   ]
  },
  {
   "cell_type": "code",
   "execution_count": 73,
   "metadata": {},
   "outputs": [
    {
     "data": {
      "text/html": [
       "<div>\n",
       "<style scoped>\n",
       "    .dataframe tbody tr th:only-of-type {\n",
       "        vertical-align: middle;\n",
       "    }\n",
       "\n",
       "    .dataframe tbody tr th {\n",
       "        vertical-align: top;\n",
       "    }\n",
       "\n",
       "    .dataframe thead th {\n",
       "        text-align: right;\n",
       "    }\n",
       "</style>\n",
       "<table border=\"1\" class=\"dataframe\">\n",
       "  <thead>\n",
       "    <tr style=\"text-align: right;\">\n",
       "      <th></th>\n",
       "      <th>rank</th>\n",
       "      <th>name</th>\n",
       "      <th>team</th>\n",
       "      <th>IP</th>\n",
       "      <th>ER</th>\n",
       "    </tr>\n",
       "  </thead>\n",
       "  <tbody>\n",
       "    <tr>\n",
       "      <th>1</th>\n",
       "      <td>2</td>\n",
       "      <td>Sale, C</td>\n",
       "      <td>BOS</td>\n",
       "      <td>146.0</td>\n",
       "      <td>32</td>\n",
       "    </tr>\n",
       "    <tr>\n",
       "      <th>4</th>\n",
       "      <td>5</td>\n",
       "      <td>Bauer, T</td>\n",
       "      <td>CLE</td>\n",
       "      <td>166.0</td>\n",
       "      <td>41</td>\n",
       "    </tr>\n",
       "    <tr>\n",
       "      <th>7</th>\n",
       "      <td>8</td>\n",
       "      <td>Kluber, C</td>\n",
       "      <td>CLE</td>\n",
       "      <td>168.0</td>\n",
       "      <td>50</td>\n",
       "    </tr>\n",
       "    <tr>\n",
       "      <th>6</th>\n",
       "      <td>7</td>\n",
       "      <td>Verlander, J</td>\n",
       "      <td>HOU</td>\n",
       "      <td>164.1</td>\n",
       "      <td>46</td>\n",
       "    </tr>\n",
       "    <tr>\n",
       "      <th>8</th>\n",
       "      <td>9</td>\n",
       "      <td>Cole, G</td>\n",
       "      <td>HOU</td>\n",
       "      <td>159.2</td>\n",
       "      <td>48</td>\n",
       "    </tr>\n",
       "    <tr>\n",
       "      <th>9</th>\n",
       "      <td>10</td>\n",
       "      <td>Morton, C</td>\n",
       "      <td>HOU</td>\n",
       "      <td>142.1</td>\n",
       "      <td>45</td>\n",
       "    </tr>\n",
       "    <tr>\n",
       "      <th>0</th>\n",
       "      <td>1</td>\n",
       "      <td>DeGrom, J</td>\n",
       "      <td>NYM</td>\n",
       "      <td>159.0</td>\n",
       "      <td>32</td>\n",
       "    </tr>\n",
       "    <tr>\n",
       "      <th>5</th>\n",
       "      <td>6</td>\n",
       "      <td>Nola, A</td>\n",
       "      <td>PHI</td>\n",
       "      <td>161.0</td>\n",
       "      <td>40</td>\n",
       "    </tr>\n",
       "    <tr>\n",
       "      <th>2</th>\n",
       "      <td>3</td>\n",
       "      <td>Snell, B</td>\n",
       "      <td>TB</td>\n",
       "      <td>133.0</td>\n",
       "      <td>31</td>\n",
       "    </tr>\n",
       "    <tr>\n",
       "      <th>3</th>\n",
       "      <td>4</td>\n",
       "      <td>Scherzer, M</td>\n",
       "      <td>WSH</td>\n",
       "      <td>174.2</td>\n",
       "      <td>41</td>\n",
       "    </tr>\n",
       "  </tbody>\n",
       "</table>\n",
       "</div>"
      ],
      "text/plain": [
       "   rank          name team     IP  ER\n",
       "1     2       Sale, C  BOS  146.0  32\n",
       "4     5      Bauer, T  CLE  166.0  41\n",
       "7     8     Kluber, C  CLE  168.0  50\n",
       "6     7  Verlander, J  HOU  164.1  46\n",
       "8     9       Cole, G  HOU  159.2  48\n",
       "9    10     Morton, C  HOU  142.1  45\n",
       "0     1     DeGrom, J  NYM  159.0  32\n",
       "5     6       Nola, A  PHI  161.0  40\n",
       "2     3      Snell, B   TB  133.0  31\n",
       "3     4   Scherzer, M  WSH  174.2  41"
      ]
     },
     "execution_count": 73,
     "metadata": {},
     "output_type": "execute_result"
    }
   ],
   "source": [
    "mlbfile.sort_values(by = 'team')\n"
   ]
  },
  {
   "cell_type": "code",
   "execution_count": null,
   "metadata": {},
   "outputs": [],
   "source": []
  }
 ],
 "metadata": {
  "colab": {
   "name": "Module 7 Python Assignment_Starter.ipynb",
   "provenance": [],
   "version": "0.3.2"
  },
  "kernelspec": {
   "display_name": "Python 3",
   "language": "python",
   "name": "python3"
  },
  "language_info": {
   "codemirror_mode": {
    "name": "ipython",
    "version": 3
   },
   "file_extension": ".py",
   "mimetype": "text/x-python",
   "name": "python",
   "nbconvert_exporter": "python",
   "pygments_lexer": "ipython3",
   "version": "3.6.5"
  }
 },
 "nbformat": 4,
 "nbformat_minor": 1
}
